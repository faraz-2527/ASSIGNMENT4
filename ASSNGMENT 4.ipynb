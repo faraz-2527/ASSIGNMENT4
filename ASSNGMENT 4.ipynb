{
 "cells": [
  {
   "cell_type": "code",
   "execution_count": 8,
   "id": "3c32d2f2-b625-4860-819d-1000cf3122f3",
   "metadata": {},
   "outputs": [
    {
     "name": "stdout",
     "output_type": "stream",
     "text": [
      "Dear FARAZ, I would be honored to have you join me for dinner. Please consider this an official invitation!\n",
      "Dear BILAL, I would be honored to have you join me for dinner. Please consider this an official invitation!\n",
      "Dear SHAYAN, I would be honored to have you join me for dinner. Please consider this an official invitation!\n"
     ]
    }
   ],
   "source": [
    "# Q1\n",
    "guest_list = [\"FARAZ\", \"BILAL\", \"SHAYAN\"]\n",
    "\n",
    "\n",
    "print(f\"Dear {guest_list[0]}, I would be honored to have you join me for dinner. Please consider this an official invitation!\")\n",
    "print(f\"Dear {guest_list[1]}, I would be honored to have you join me for dinner. Please consider this an official invitation!\")\n",
    "print(f\"Dear {guest_list[2]}, I would be honored to have you join me for dinner. Please consider this an official invitation!\")\n"
   ]
  },
  {
   "cell_type": "code",
   "execution_count": 9,
   "id": "01a8f6d1-1b9a-4935-a782-0226774b560f",
   "metadata": {},
   "outputs": [
    {
     "name": "stdout",
     "output_type": "stream",
     "text": [
      "Unfortunately, BILAL can't make it to the dinner.\n",
      "Dear FARAZ, I would be honored to have you join me for dinner. Please consider this an official invitation!\n",
      "Dear MANI, I would be honored to have you join me for dinner. Please consider this an official invitation!\n",
      "Dear SHAYAN, I would be honored to have you join me for dinner. Please consider this an official invitation!\n"
     ]
    }
   ],
   "source": [
    "# Q2\n",
    "guest_list = [\"FARAZ\", \"BILAL\", \"SHAYAN\"]\n",
    "\n",
    "unavailable_guest = guest_list[1]\n",
    "print(f\"Unfortunately, {unavailable_guest} can't make it to the dinner.\")\n",
    "\n",
    "guest_list[1] = \"MANI\"\n",
    "\n",
    "\n",
    "print(f\"Dear {guest_list[0]}, I would be honored to have you join me for dinner. Please consider this an official invitation!\")\n",
    "print(f\"Dear {guest_list[1]}, I would be honored to have you join me for dinner. Please consider this an official invitation!\")\n",
    "print(f\"Dear {guest_list[2]}, I would be honored to have you join me for dinner. Please consider this an official invitation!\")\n"
   ]
  },
  {
   "cell_type": "code",
   "execution_count": null,
   "id": "7052ee2b-fa2e-4525-9c47-b6678ded9adf",
   "metadata": {},
   "outputs": [],
   "source": [
    "\n"
   ]
  },
  {
   "cell_type": "code",
   "execution_count": 10,
   "id": "a2edd19b-af4c-4b38-91f6-89cae304bc91",
   "metadata": {},
   "outputs": [
    {
     "name": "stdout",
     "output_type": "stream",
     "text": [
      "Dear FARAZ, I would be honored to have you join me for dinner. Please consider this an official invitation!\n",
      "Dear BILAL, I would be honored to have you join me for dinner. Please consider this an official invitation!\n",
      "Dear SHAYAN, I would be honored to have you join me for dinner. Please consider this an official invitation!\n",
      "\n",
      "Unfortunately, BILAL can't make it to the dinner.\n",
      "\n",
      "Dear FARAZ, I would be honored to have you join me for dinner. Please consider this an official invitation!\n",
      "Dear MANI, I would be honored to have you join me for dinner. Please consider this an official invitation!\n",
      "Dear SHAYAN, I would be honored to have you join me for dinner. Please consider this an official invitation!\n"
     ]
    }
   ],
   "source": [
    "#Q4\n",
    "guest_list = [\"FARAZ\", \"BILAL\", \"SHAYAN\"]\n",
    "\n",
    "\n",
    "print(f\"Dear {guest_list[0]}, I would be honored to have you join me for dinner. Please consider this an official invitation!\")\n",
    "print(f\"Dear {guest_list[1]}, I would be honored to have you join me for dinner. Please consider this an official invitation!\")\n",
    "print(f\"Dear {guest_list[2]}, I would be honored to have you join me for dinner. Please consider this an official invitation!\")\n",
    "\n",
    "\n",
    "unavailable_guest = guest_list[1]\n",
    "\n",
    "\n",
    "print(f\"\\nUnfortunately, {unavailable_guest} can't make it to the dinner.\")\n",
    "\n",
    "\n",
    "guest_list[1] = \"MANI\"\n",
    "\n",
    "print(f\"\\nDear {guest_list[0]}, I would be honored to have you join me for dinner. Please consider this an official invitation!\")\n",
    "print(f\"Dear {guest_list[1]}, I would be honored to have you join me for dinner. Please consider this an official invitation!\")\n",
    "print(f\"Dear {guest_list[2]}, I would be honored to have you join me for dinner. Please consider this an official invitation!\")\n"
   ]
  },
  {
   "cell_type": "code",
   "execution_count": 11,
   "id": "cc1c502f-b24a-4e85-b1f5-37d3c4ace9b9",
   "metadata": {},
   "outputs": [
    {
     "name": "stdout",
     "output_type": "stream",
     "text": [
      "Dear FARAZ, I would be honored to have you join me for dinner. Please consider this an official invitation!\n",
      "Dear BILAL, I would be honored to have you join me for dinner. Please consider this an official invitation!\n",
      "Dear SHAYAN, I would be honored to have you join me for dinner. Please consider this an official invitation!\n",
      "\n",
      "Unfortunately, BILAL can't make it to the dinner.\n",
      "\n",
      "Dear FARAZ, I would be honored to have you join me for dinner. Please consider this an official invitation!\n",
      "Dear MANI, I would be honored to have you join me for dinner. Please consider this an official invitation!\n",
      "Dear SHAYAN, I would be honored to have you join me for dinner. Please consider this an official invitation!\n",
      "\n",
      "Sending a second set of invitations:\n",
      "Dear FARAZ, I'm sending you a second invitation to remind you of our dinner. Looking forward to seeing you!\n",
      "Dear MANI, I'm sending you a second invitation to remind you of our dinner. Looking forward to seeing you!\n",
      "Dear SHAYAN, I'm sending you a second invitation to remind you of our dinner. Looking forward to seeing you!\n"
     ]
    }
   ],
   "source": [
    "#Q5\n",
    "guest_list = [\"FARAZ\", \"BILAL\", \"SHAYAN\"]\n",
    "\n",
    "# Print the original invitation messages\n",
    "print(f\"Dear {guest_list[0]}, I would be honored to have you join me for dinner. Please consider this an official invitation!\")\n",
    "print(f\"Dear {guest_list[1]}, I would be honored to have you join me for dinner. Please consider this an official invitation!\")\n",
    "print(f\"Dear {guest_list[2]}, I would be honored to have you join me for dinner. Please consider this an official invitation!\")\n",
    "\n",
    "\n",
    "unavailable_guest = guest_list[1]\n",
    "\n",
    "print(f\"\\nUnfortunately, {unavailable_guest} can't make it to the dinner.\")\n",
    "\n",
    "\n",
    "guest_list[1] = \"MANI\"\n",
    "\n",
    "\n",
    "print(f\"\\nDear {guest_list[0]}, I would be honored to have you join me for dinner. Please consider this an official invitation!\")\n",
    "print(f\"Dear {guest_list[1]}, I would be honored to have you join me for dinner. Please consider this an official invitation!\")\n",
    "print(f\"Dear {guest_list[2]}, I would be honored to have you join me for dinner. Please consider this an official invitation!\")\n",
    "\n",
    "\n",
    "print(\"\\nSending a second set of invitations:\")\n",
    "print(f\"Dear {guest_list[0]}, I'm sending you a second invitation to remind you of our dinner. Looking forward to seeing you!\")\n",
    "print(f\"Dear {guest_list[1]}, I'm sending you a second invitation to remind you of our dinner. Looking forward to seeing you!\")\n",
    "print(f\"Dear {guest_list[2]}, I'm sending you a second invitation to remind you of our dinner. Looking forward to seeing you!\")\n"
   ]
  },
  {
   "cell_type": "code",
   "execution_count": 12,
   "id": "38e2bca1-2015-4ffd-b506-a843dbe27c3b",
   "metadata": {},
   "outputs": [
    {
     "name": "stdout",
     "output_type": "stream",
     "text": [
      "Dear FARAZ, I would be honored to have you join me for dinner. Please consider this an official invitation!\n",
      "Dear BILAL, I would be honored to have you join me for dinner. Please consider this an official invitation!\n",
      "Dear SHAYAN, I would be honored to have you join me for dinner. Please consider this an official invitation!\n",
      "\n",
      "Unfortunately, BILAL can't make it to the dinner.\n",
      "\n",
      "Dear FARAZ, I would be honored to have you join me for dinner. Please consider this an official invitation!\n",
      "Dear MANI, I would be honored to have you join me for dinner. Please consider this an official invitation!\n",
      "Dear SHAYAN, I would be honored to have you join me for dinner. Please consider this an official invitation!\n",
      "\n",
      "Good news! I just found a bigger dinner table, so I'm inviting more guests!\n",
      "\n",
      "Here is the updated list of invitations:\n",
      "Dear HARIS, I would be honored to have you join me for dinner. Please consider this an official invitation!\n",
      "Dear FARAZ, I would be honored to have you join me for dinner. Please consider this an official invitation!\n",
      "Dear OMER, I would be honored to have you join me for dinner. Please consider this an official invitation!\n",
      "Dear MANI, I would be honored to have you join me for dinner. Please consider this an official invitation!\n",
      "Dear SHAYAN, I would be honored to have you join me for dinner. Please consider this an official invitation!\n",
      "Dear AHAD, I would be honored to have you join me for dinner. Please consider this an official invitation!\n"
     ]
    }
   ],
   "source": [
    "#Q6\n",
    "guest_list = [\"FARAZ\", \"BILAL\", \"SHAYAN\"]\n",
    "\n",
    "\n",
    "print(f\"Dear {guest_list[0]}, I would be honored to have you join me for dinner. Please consider this an official invitation!\")\n",
    "print(f\"Dear {guest_list[1]}, I would be honored to have you join me for dinner. Please consider this an official invitation!\")\n",
    "print(f\"Dear {guest_list[2]}, I would be honored to have you join me for dinner. Please consider this an official invitation!\")\n",
    "\n",
    "\n",
    "unavailable_guest = guest_list[1]\n",
    "\n",
    "print(f\"\\nUnfortunately, {unavailable_guest} can't make it to the dinner.\")\n",
    "\n",
    "\n",
    "guest_list[1] = \"MANI\"\n",
    "\n",
    "\n",
    "print(f\"\\nDear {guest_list[0]}, I would be honored to have you join me for dinner. Please consider this an official invitation!\")\n",
    "print(f\"Dear {guest_list[1]}, I would be honored to have you join me for dinner. Please consider this an official invitation!\")\n",
    "print(f\"Dear {guest_list[2]}, I would be honored to have you join me for dinner. Please consider this an official invitation!\")\n",
    "\n",
    "print(\"\\nGood news! I just found a bigger dinner table, so I'm inviting more guests!\")\n",
    "\n",
    "\n",
    "guest_list.insert(0, \"HARIS\")   \n",
    "guest_list.insert(2, \"OMER\")      \n",
    "guest_list.append(\"AHAD\")         \n",
    "\n",
    "print(\"\\nHere is the updated list of invitations:\")\n",
    "print(f\"Dear {guest_list[0]}, I would be honored to have you join me for dinner. Please consider this an official invitation!\")\n",
    "print(f\"Dear {guest_list[1]}, I would be honored to have you join me for dinner. Please consider this an official invitation!\")\n",
    "print(f\"Dear {guest_list[2]}, I would be honored to have you join me for dinner. Please consider this an official invitation!\")\n",
    "print(f\"Dear {guest_list[3]}, I would be honored to have you join me for dinner. Please consider this an official invitation!\")\n",
    "print(f\"Dear {guest_list[4]}, I would be honored to have you join me for dinner. Please consider this an official invitation!\")\n",
    "print(f\"Dear {guest_list[5]}, I would be honored to have you join me for dinner. Please consider this an official invitation!\")\n"
   ]
  },
  {
   "cell_type": "code",
   "execution_count": 13,
   "id": "1eba2eab-8d9c-4289-9b86-cb05686ee608",
   "metadata": {},
   "outputs": [
    {
     "name": "stdout",
     "output_type": "stream",
     "text": [
      "Unfortunately, the new dinner table won't arrive in time, and I can only invite two people for dinner.\n",
      "Sorry AHAD, I can't invite you to dinner this time.\n",
      "Sorry OMER, I can't invite you to dinner this time.\n",
      "Sorry MANI, I can't invite you to dinner this time.\n",
      "Sorry SHAYAN, I can't invite you to dinner this time.\n",
      "\n",
      "Dear HARIS, you are still invited to dinner!\n",
      "Dear FARAZ, you are still invited to dinner!\n",
      "\n",
      "Final guest list: []\n"
     ]
    }
   ],
   "source": [
    "\n",
    "guest_list = [\"HARIS\", \"FARAZ\", \"SHAYAN\", \"MANI\", \"OMER\", \"AHAD\"]\n",
    "\n",
    "\n",
    "print(\"Unfortunately, the new dinner table won't arrive in time, and I can only invite two people for dinner.\")\n",
    "\n",
    "\n",
    "removed_guest = guest_list.pop()\n",
    "print(f\"Sorry {removed_guest}, I can't invite you to dinner this time.\")\n",
    "\n",
    "removed_guest = guest_list.pop()\n",
    "print(f\"Sorry {removed_guest}, I can't invite you to dinner this time.\")\n",
    "\n",
    "removed_guest = guest_list.pop()\n",
    "print(f\"Sorry {removed_guest}, I can't invite you to dinner this time.\")\n",
    "\n",
    "removed_guest = guest_list.pop()\n",
    "print(f\"Sorry {removed_guest}, I can't invite you to dinner this time.\")\n",
    "\n",
    "print(f\"\\nDear {guest_list[0]}, you are still invited to dinner!\")\n",
    "print(f\"Dear {guest_list[1]}, you are still invited to dinner!\")\n",
    "\n",
    "\n",
    "del guest_list[0]\n",
    "del guest_list[0]  \n",
    "\n",
    "print(f\"\\nFinal guest list: {guest_list}\")\n"
   ]
  },
  {
   "cell_type": "code",
   "execution_count": 13,
   "id": "61f57725-e3e9-4900-a093-d7f63bb22546",
   "metadata": {},
   "outputs": [
    {
     "data": {
      "text/plain": [
       "['Apple', 'Banana', 'Cherry', 'Date', 'Elderberry', 'Fig', 'Grape']"
      ]
     },
     "execution_count": 13,
     "metadata": {},
     "output_type": "execute_result"
    }
   ],
   "source": [
    "fruits = [\"Apple\", \"Banana\", \"Cherry\", \"Date\", \"Elderberry\", \"Fig\", \"Grape\"]\n",
    "fruits"
   ]
  },
  {
   "cell_type": "code",
   "execution_count": 14,
   "id": "4033b35b-53bd-4611-8ab5-049f4729d244",
   "metadata": {},
   "outputs": [
    {
     "name": "stdout",
     "output_type": "stream",
     "text": [
      "The first fruit in the list is: Apple\n"
     ]
    }
   ],
   "source": [
    "#Accessing the first item:\n",
    "first_fruit = fruits[0]\n",
    "print(f\"The first fruit in the list is: {first_fruit}\")"
   ]
  },
  {
   "cell_type": "code",
   "execution_count": 1,
   "id": "35c68cf1-fb77-4406-98c7-f2165acd3795",
   "metadata": {},
   "outputs": [],
   "source": [
    "colors = ['Red', 'Green', 'Blue', 'Yellow', 'Orange', 'Purple', 'Pink']"
   ]
  },
  {
   "cell_type": "code",
   "execution_count": 2,
   "id": "dadd0c8a-7479-46a7-9fe1-454d8b1b4c39",
   "metadata": {},
   "outputs": [
    {
     "name": "stdout",
     "output_type": "stream",
     "text": [
      "Red\n"
     ]
    }
   ],
   "source": [
    "print(colors[0])"
   ]
  },
  {
   "cell_type": "code",
   "execution_count": 3,
   "id": "8bf63ba3-ca44-4f52-8f59-153a192cab73",
   "metadata": {},
   "outputs": [
    {
     "name": "stdout",
     "output_type": "stream",
     "text": [
      "Pink\n"
     ]
    }
   ],
   "source": [
    "print(colors[-1])"
   ]
  },
  {
   "cell_type": "code",
   "execution_count": 4,
   "id": "9ba5b2ae-320d-4413-976a-3ad202b5243d",
   "metadata": {},
   "outputs": [
    {
     "name": "stdout",
     "output_type": "stream",
     "text": [
      "['Red', 'Green', 'Blue']\n"
     ]
    }
   ],
   "source": [
    "print(colors[:3])  "
   ]
  },
  {
   "cell_type": "code",
   "execution_count": 5,
   "id": "854f08e4-356d-4daa-b7ab-7c96a289ebfd",
   "metadata": {},
   "outputs": [
    {
     "name": "stdout",
     "output_type": "stream",
     "text": [
      "['Blue', 'Yellow', 'Orange']\n"
     ]
    }
   ],
   "source": [
    "print(colors[2:5])  "
   ]
  },
  {
   "cell_type": "code",
   "execution_count": 6,
   "id": "927519ac-de01-4149-8699-2ef14f903111",
   "metadata": {},
   "outputs": [
    {
     "name": "stdout",
     "output_type": "stream",
     "text": [
      "['Yellow', 'Orange', 'Purple', 'Pink']\n"
     ]
    }
   ],
   "source": [
    "print(colors[3:]) "
   ]
  },
  {
   "cell_type": "code",
   "execution_count": 7,
   "id": "aea451ec-0f91-425a-ae4c-96316cd825c8",
   "metadata": {},
   "outputs": [
    {
     "name": "stdout",
     "output_type": "stream",
     "text": [
      "['Red', 'Green', 'Blue', 'Yellow', 'Orange']\n"
     ]
    }
   ],
   "source": [
    "print(colors[:5])  "
   ]
  },
  {
   "cell_type": "code",
   "execution_count": null,
   "id": "ab5e9e86-95ae-48e1-a8e1-4d223c350f02",
   "metadata": {},
   "outputs": [],
   "source": []
  }
 ],
 "metadata": {
  "kernelspec": {
   "display_name": "Python 3 (ipykernel)",
   "language": "python",
   "name": "python3"
  },
  "language_info": {
   "codemirror_mode": {
    "name": "ipython",
    "version": 3
   },
   "file_extension": ".py",
   "mimetype": "text/x-python",
   "name": "python",
   "nbconvert_exporter": "python",
   "pygments_lexer": "ipython3",
   "version": "3.12.4"
  }
 },
 "nbformat": 4,
 "nbformat_minor": 5
}
